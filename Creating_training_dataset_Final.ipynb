{
  "nbformat": 4,
  "nbformat_minor": 0,
  "metadata": {
    "kernelspec": {
      "name": "python3",
      "display_name": "Python 3"
    },
    "colab": {
      "name": "Creating_training_dataset_Final.ipynb",
      "provenance": [],
      "collapsed_sections": []
    },
    "widgets": {
      "application/vnd.jupyter.widget-state+json": {
        "f9e021c774a14a9d8f131e2e8bacc6be": {
          "model_module": "@jupyter-widgets/controls",
          "model_name": "HBoxModel",
          "state": {
            "_view_name": "HBoxView",
            "_dom_classes": [],
            "_model_name": "HBoxModel",
            "_view_module": "@jupyter-widgets/controls",
            "_model_module_version": "1.5.0",
            "_view_count": null,
            "_view_module_version": "1.5.0",
            "box_style": "",
            "layout": "IPY_MODEL_f2b7a1eebca9493ba58cba311ccee66a",
            "_model_module": "@jupyter-widgets/controls",
            "children": [
              "IPY_MODEL_af3f381251c3449bb4cca72b407b165c",
              "IPY_MODEL_5ea63204e5d74b70a5a35371980e27b1"
            ]
          }
        },
        "f2b7a1eebca9493ba58cba311ccee66a": {
          "model_module": "@jupyter-widgets/base",
          "model_name": "LayoutModel",
          "state": {
            "_view_name": "LayoutView",
            "grid_template_rows": null,
            "right": null,
            "justify_content": null,
            "_view_module": "@jupyter-widgets/base",
            "overflow": null,
            "_model_module_version": "1.2.0",
            "_view_count": null,
            "flex_flow": null,
            "width": null,
            "min_width": null,
            "border": null,
            "align_items": null,
            "bottom": null,
            "_model_module": "@jupyter-widgets/base",
            "top": null,
            "grid_column": null,
            "overflow_y": null,
            "overflow_x": null,
            "grid_auto_flow": null,
            "grid_area": null,
            "grid_template_columns": null,
            "flex": null,
            "_model_name": "LayoutModel",
            "justify_items": null,
            "grid_row": null,
            "max_height": null,
            "align_content": null,
            "visibility": null,
            "align_self": null,
            "height": null,
            "min_height": null,
            "padding": null,
            "grid_auto_rows": null,
            "grid_gap": null,
            "max_width": null,
            "order": null,
            "_view_module_version": "1.2.0",
            "grid_template_areas": null,
            "object_position": null,
            "object_fit": null,
            "grid_auto_columns": null,
            "margin": null,
            "display": null,
            "left": null
          }
        },
        "af3f381251c3449bb4cca72b407b165c": {
          "model_module": "@jupyter-widgets/controls",
          "model_name": "IntProgressModel",
          "state": {
            "_view_name": "ProgressView",
            "style": "IPY_MODEL_4be9d2e0b9544a54a145660c604ddbd6",
            "_dom_classes": [],
            "description": "",
            "_model_name": "IntProgressModel",
            "bar_style": "success",
            "max": 19705,
            "_view_module": "@jupyter-widgets/controls",
            "_model_module_version": "1.5.0",
            "value": 19705,
            "_view_count": null,
            "_view_module_version": "1.5.0",
            "orientation": "horizontal",
            "min": 0,
            "description_tooltip": null,
            "_model_module": "@jupyter-widgets/controls",
            "layout": "IPY_MODEL_f5f264e81d7542dfba2b4d00d78c7803"
          }
        },
        "5ea63204e5d74b70a5a35371980e27b1": {
          "model_module": "@jupyter-widgets/controls",
          "model_name": "HTMLModel",
          "state": {
            "_view_name": "HTMLView",
            "style": "IPY_MODEL_f3f752c485e347eaada35c3d4a119768",
            "_dom_classes": [],
            "description": "",
            "_model_name": "HTMLModel",
            "placeholder": "​",
            "_view_module": "@jupyter-widgets/controls",
            "_model_module_version": "1.5.0",
            "value": "100% 19705/19705 [1:40:35&lt;00:00,  3.48it/s]",
            "_view_count": null,
            "_view_module_version": "1.5.0",
            "description_tooltip": null,
            "_model_module": "@jupyter-widgets/controls",
            "layout": "IPY_MODEL_5198a476a27e4d5a934c47e5b24cac16"
          }
        },
        "4be9d2e0b9544a54a145660c604ddbd6": {
          "model_module": "@jupyter-widgets/controls",
          "model_name": "ProgressStyleModel",
          "state": {
            "_view_name": "StyleView",
            "_model_name": "ProgressStyleModel",
            "description_width": "",
            "_view_module": "@jupyter-widgets/base",
            "_model_module_version": "1.5.0",
            "_view_count": null,
            "_view_module_version": "1.2.0",
            "bar_color": null,
            "_model_module": "@jupyter-widgets/controls"
          }
        },
        "f5f264e81d7542dfba2b4d00d78c7803": {
          "model_module": "@jupyter-widgets/base",
          "model_name": "LayoutModel",
          "state": {
            "_view_name": "LayoutView",
            "grid_template_rows": null,
            "right": null,
            "justify_content": null,
            "_view_module": "@jupyter-widgets/base",
            "overflow": null,
            "_model_module_version": "1.2.0",
            "_view_count": null,
            "flex_flow": null,
            "width": null,
            "min_width": null,
            "border": null,
            "align_items": null,
            "bottom": null,
            "_model_module": "@jupyter-widgets/base",
            "top": null,
            "grid_column": null,
            "overflow_y": null,
            "overflow_x": null,
            "grid_auto_flow": null,
            "grid_area": null,
            "grid_template_columns": null,
            "flex": null,
            "_model_name": "LayoutModel",
            "justify_items": null,
            "grid_row": null,
            "max_height": null,
            "align_content": null,
            "visibility": null,
            "align_self": null,
            "height": null,
            "min_height": null,
            "padding": null,
            "grid_auto_rows": null,
            "grid_gap": null,
            "max_width": null,
            "order": null,
            "_view_module_version": "1.2.0",
            "grid_template_areas": null,
            "object_position": null,
            "object_fit": null,
            "grid_auto_columns": null,
            "margin": null,
            "display": null,
            "left": null
          }
        },
        "f3f752c485e347eaada35c3d4a119768": {
          "model_module": "@jupyter-widgets/controls",
          "model_name": "DescriptionStyleModel",
          "state": {
            "_view_name": "StyleView",
            "_model_name": "DescriptionStyleModel",
            "description_width": "",
            "_view_module": "@jupyter-widgets/base",
            "_model_module_version": "1.5.0",
            "_view_count": null,
            "_view_module_version": "1.2.0",
            "_model_module": "@jupyter-widgets/controls"
          }
        },
        "5198a476a27e4d5a934c47e5b24cac16": {
          "model_module": "@jupyter-widgets/base",
          "model_name": "LayoutModel",
          "state": {
            "_view_name": "LayoutView",
            "grid_template_rows": null,
            "right": null,
            "justify_content": null,
            "_view_module": "@jupyter-widgets/base",
            "overflow": null,
            "_model_module_version": "1.2.0",
            "_view_count": null,
            "flex_flow": null,
            "width": null,
            "min_width": null,
            "border": null,
            "align_items": null,
            "bottom": null,
            "_model_module": "@jupyter-widgets/base",
            "top": null,
            "grid_column": null,
            "overflow_y": null,
            "overflow_x": null,
            "grid_auto_flow": null,
            "grid_area": null,
            "grid_template_columns": null,
            "flex": null,
            "_model_name": "LayoutModel",
            "justify_items": null,
            "grid_row": null,
            "max_height": null,
            "align_content": null,
            "visibility": null,
            "align_self": null,
            "height": null,
            "min_height": null,
            "padding": null,
            "grid_auto_rows": null,
            "grid_gap": null,
            "max_width": null,
            "order": null,
            "_view_module_version": "1.2.0",
            "grid_template_areas": null,
            "object_position": null,
            "object_fit": null,
            "grid_auto_columns": null,
            "margin": null,
            "display": null,
            "left": null
          }
        }
      }
    },
    "accelerator": "GPU"
  },
  "cells": [
    {
      "cell_type": "code",
      "metadata": {
        "id": "qlvQrt3c11pP",
        "colab_type": "code",
        "colab": {}
      },
      "source": [
        "import pandas as pd\n",
        "import numpy as np\n",
        "import matplotlib.pyplot as plt\n",
        "import seaborn as sns\n",
        "sns.set()\n",
        "from tqdm import tqdm, tqdm_notebook\n",
        "from collections import defaultdict\n",
        "from google.colab import drive"
      ],
      "execution_count": 0,
      "outputs": []
    },
    {
      "cell_type": "code",
      "metadata": {
        "id": "0Cu1WyKfY32N",
        "colab_type": "code",
        "colab": {}
      },
      "source": [
        "from google.colab import files\n"
      ],
      "execution_count": 0,
      "outputs": []
    },
    {
      "cell_type": "code",
      "metadata": {
        "id": "Y1EHGiom1-9k",
        "colab_type": "code",
        "outputId": "9752b555-0fe1-4343-dab7-2f28e3e40dcb",
        "colab": {
          "base_uri": "https://localhost:8080/",
          "height": 34
        }
      },
      "source": [
        "drive.mount('/content/gdrive')"
      ],
      "execution_count": 0,
      "outputs": [
        {
          "output_type": "stream",
          "text": [
            "Drive already mounted at /content/gdrive; to attempt to forcibly remount, call drive.mount(\"/content/gdrive\", force_remount=True).\n"
          ],
          "name": "stdout"
        }
      ]
    },
    {
      "cell_type": "code",
      "metadata": {
        "id": "dgjAvqh811pZ",
        "colab_type": "code",
        "outputId": "d346bb49-709f-4d56-dac1-04e32c6c0e83",
        "colab": {
          "base_uri": "https://localhost:8080/",
          "height": 34
        }
      },
      "source": [
        "from google.colab import auth\n",
        "auth.authenticate_user()\n",
        "print('Authenticated')"
      ],
      "execution_count": 0,
      "outputs": [
        {
          "output_type": "stream",
          "text": [
            "Authenticated\n"
          ],
          "name": "stdout"
        }
      ]
    },
    {
      "cell_type": "code",
      "metadata": {
        "id": "OLAwMubp11pc",
        "colab_type": "code",
        "colab": {}
      },
      "source": [
        "from google.cloud import bigquery\n",
        "# TODO: Uncomment the line below to set the `project` variable.\n",
        "project_id = 'mimiciii-database'\n",
        "#\n",
        "# The `project` variable defines the project to be billed for query\n",
        "# processing. The user must have the bigquery.jobs.create permission on\n",
        "# this project to run a query. See:\n",
        "# https://cloud.google.com/bigquery/docs/access-control#permissions\n",
        "client = bigquery.Client(project=project_id)\n",
        "sql = \"\"\"\n",
        "    SELECT *\n",
        "    FROM `mimiciii-database.MIMIC3_V1_4.ADMISSIONS`\n",
        "    LIMIT 100\n",
        "\"\"\"\n",
        "\n",
        "# Run a Standard SQL query using the environment's default project\n",
        "#df = client.query(sql).to_dataframe()\"\"\n",
        "\n",
        "# Run a Standard SQL query with the project set explicitly\n",
        "project_id = 'mimiciii-database'\n",
        "df = client.query(sql, project=project_id).to_dataframe()\n",
        "#df"
      ],
      "execution_count": 0,
      "outputs": []
    },
    {
      "cell_type": "code",
      "metadata": {
        "id": "BuKViuX911pf",
        "colab_type": "code",
        "colab": {}
      },
      "source": [
        "#All data points- first 24hrs\n",
        "query6_4 = \"\"\"\n",
        "WITH sample_icu AS(\n",
        "SELECT icustay_id\n",
        "FROM `mimiciii-database.MIMIC3_V1_4.ICUSTAYS` \n",
        "WHERE dbsource = 'metavision'\n",
        "--ORDER BY rand()\n",
        "--LIMIT 50\n",
        ")\n",
        "  select ie.subject_id, ie.hadm_id, ie.icustay_id, ie.intime,ie.outtime,\n",
        "  ce.charttime\n",
        "  , case\n",
        "    when itemid in (211,220045) and valuenum > 0 and valuenum < 300 then 1 -- HeartRate\n",
        "    when itemid in (51,442,455,6701,220179,220050) and valuenum > 0 and valuenum < 400 then 2 -- SysBP\n",
        "    when itemid in (8368,8440,8441,8555,220180,220051) and valuenum > 0 and valuenum < 300 then 3 -- DiasBP\n",
        "    when itemid in (456,52,6702,443,220052,220181,225312) and valuenum > 0 and valuenum < 300 then 4 -- MeanBP\n",
        "    when itemid in (615,618,220210,224690) and valuenum > 0 and valuenum < 70 then 5 -- RespRate\n",
        "    when itemid in (223761,678) and valuenum > 70 and valuenum < 120  then 6 -- TempF, converted to degC in valuenum call\n",
        "    when itemid in (223762,676) and valuenum > 10 and valuenum < 50  then 6 -- TempC\n",
        "    when itemid in (646,220277) and valuenum > 0 and valuenum <= 100 then 7 -- SpO2\n",
        "    when itemid in (807,811,1529,3745,3744,225664,220621,226537) and valuenum > 0 and valuenum <1000 then 8 -- Glucose\n",
        "\n",
        "    else null end as VitalID\n",
        "      -- convert F to C\n",
        "  , case when itemid in (223761,678) then (valuenum-32)/1.8 else valuenum end as valuenum\n",
        "\n",
        "  from `mimiciii-database.MIMIC3_V1_4.ICUSTAYS` AS ie\n",
        "  left join `mimiciii-database.MIMIC3_V1_4.CHARTEVENTS` ce\n",
        "  on ie.icustay_id = ce.icustay_id\n",
        "  and ce.charttime between ie.intime and ie.outtime\n",
        "  and DATETIME_DIFF(ce.charttime, ie.intime, SECOND) > 0\n",
        "  and DATETIME_DIFF(ce.charttime, ie.intime, HOUR) <= 24\n",
        "  -- exclude rows marked as error\n",
        "  and (ce.error IS NULL or ce.error = 0)\n",
        "  RIGHT join sample_icu as si\n",
        "  on ie.icustay_id = si.icustay_id\n",
        "  where ce.itemid in\n",
        "  (\n",
        "  -- HEART RATE\n",
        "  211, --\"Heart Rate\"\n",
        "  220045, --\"Heart Rate\"\n",
        "\n",
        "  -- Systolic/diastolic\n",
        "\n",
        "  51, --\tArterial BP [Systolic]\n",
        "  442, --\tManual BP [Systolic]\n",
        "  455, --\tNBP [Systolic]\n",
        "  6701, --\tArterial BP #2 [Systolic]\n",
        "  220179, --\tNon Invasive Blood Pressure systolic\n",
        "  220050, --\tArterial Blood Pressure systolic\n",
        "\n",
        "  8368, --\tArterial BP [Diastolic]\n",
        "  8440, --\tManual BP [Diastolic]\n",
        "  8441, --\tNBP [Diastolic]\n",
        "  8555, --\tArterial BP #2 [Diastolic]\n",
        "  220180, --\tNon Invasive Blood Pressure diastolic\n",
        "  220051, --\tArterial Blood Pressure diastolic\n",
        "\n",
        "\n",
        "  -- MEAN ARTERIAL PRESSURE\n",
        "  456, --\"NBP Mean\"\n",
        "  52, --\"Arterial BP Mean\"\n",
        "  6702, --\tArterial BP Mean #2\n",
        "  443, --\tManual BP Mean(calc)\n",
        "  220052, --\"Arterial Blood Pressure mean\"\n",
        "  220181, --\"Non Invasive Blood Pressure mean\"\n",
        "  225312, --\"ART BP mean\"\n",
        "\n",
        "  -- RESPIRATORY RATE\n",
        "  618,--\tRespiratory Rate\n",
        "  615,--\tResp Rate (Total)\n",
        "  220210,--\tRespiratory Rate\n",
        "  224690, --\tRespiratory Rate (Total)\n",
        "\n",
        "\n",
        "  -- SPO2, peripheral\n",
        "  646, 220277,\n",
        "\n",
        "  -- GLUCOSE, both lab and fingerstick\n",
        "  807,--\tFingerstick Glucose\n",
        "  811,--\tGlucose (70-105)\n",
        "  1529,--\tGlucose\n",
        "  3745,--\tBloodGlucose\n",
        "  3744,--\tBlood Glucose\n",
        "  225664,--\tGlucose finger stick\n",
        "  220621,--\tGlucose (serum)\n",
        "  226537,--\tGlucose (whole blood)\n",
        "\n",
        "  -- TEMPERATURE\n",
        "  223762, -- \"Temperature Celsius\"\n",
        "  676,\t-- \"Temperature C\"\n",
        "  223761, -- \"Temperature Fahrenheit\"\n",
        "  678 --\t\"Temperature F\"\n",
        "  )\n",
        "  ORDER BY ie.icustay_id, \n",
        "  ce.charttime\n",
        "\"\"\""
      ],
      "execution_count": 0,
      "outputs": []
    },
    {
      "cell_type": "code",
      "metadata": {
        "id": "iXQjV_WL11pi",
        "colab_type": "code",
        "outputId": "6406d080-8f7b-4ca7-cd94-1b6d9b7dec4a",
        "colab": {
          "base_uri": "https://localhost:8080/",
          "height": 51
        }
      },
      "source": [
        "%%time\n",
        "df_datapoint = client.query(query6_4, project=project_id).to_dataframe()\n",
        "df_datapoint"
      ],
      "execution_count": 0,
      "outputs": [
        {
          "output_type": "stream",
          "text": [
            "CPU times: user 4min 43s, sys: 7.1 s, total: 4min 50s\n",
            "Wall time: 9min 23s\n"
          ],
          "name": "stdout"
        }
      ]
    },
    {
      "cell_type": "code",
      "metadata": {
        "id": "CSuZqnuKmhA6",
        "colab_type": "code",
        "colab": {}
      },
      "source": [
        "#include data points from oxygenation and machine ventilation\n",
        "query1 = \"\"\"\n",
        "WITH sample_icu AS(\n",
        "SELECT subject_id,hadm_id,icustay_id,intime,outtime\n",
        "FROM `mimiciii-database.MIMIC3_V1_4.ICUSTAYS` \n",
        "WHERE dbsource = 'metavision')\n",
        "Select s.subject_id, s.hadm_id,v.icustay_id, s.intime, s.outtime, v.charttime, v.MechVent, v.OxygenTherapy\n",
        "From `mimiciii-database.MIMIC3_V1_4.ventsettings` as v\n",
        "RIGHT Join sample_icu as s \n",
        "ON v.icustay_id = s.icustay_id \n",
        "  and v.charttime between s.intime and s.outtime\n",
        "  and DATETIME_DIFF(v.charttime, s.intime, SECOND) > 0\n",
        "  and DATETIME_DIFF(v.charttime, s.intime, HOUR) <= 24\n",
        "#WHERE v.MechVent = 0 AND (v.Extubated=1 OR v.SelfExtubated=1)\n",
        "ORDER BY s.icustay_id, charttime\n",
        "\"\"\"\n"
      ],
      "execution_count": 0,
      "outputs": []
    },
    {
      "cell_type": "code",
      "metadata": {
        "id": "xE-QdrRlml01",
        "colab_type": "code",
        "colab": {}
      },
      "source": [
        "df_02 = client.query(query1, project=project_id).to_dataframe()\n",
        "#df_02"
      ],
      "execution_count": 0,
      "outputs": []
    },
    {
      "cell_type": "code",
      "metadata": {
        "id": "rFUAX8hOpPp9",
        "colab_type": "code",
        "colab": {}
      },
      "source": [
        "df_mv = df_02.iloc[:,:6]\n",
        "df_mv['VitalID'] = 9\n",
        "df_mv['valuenum'] = df_02['MechVent']\n",
        "df_ot = df_02.iloc[:,:6]\n",
        "df_ot['VitalID'] = 10\n",
        "df_ot['valuenum'] = df_02['OxygenTherapy']\n",
        "df_02transform = pd.concat([df_mv,df_ot])\n",
        "df_02transform = df_02transform.sort_values(by=['icustay_id','charttime'])\n",
        "df_02transform = df_02transform.dropna()\n",
        "#df_02transform"
      ],
      "execution_count": 0,
      "outputs": []
    },
    {
      "cell_type": "code",
      "metadata": {
        "id": "PD9xO_w_11pn",
        "colab_type": "code",
        "colab": {}
      },
      "source": [
        "# stratified icu admissions, db = metavision (2008-2012)\n",
        "query4_2 = \"\"\"\n",
        "WITH adult_adm AS\n",
        "( SELECT DISTINCT subject_id\n",
        "  FROM `mimiciii-database.MIMIC3_V1_4.ADMISSIONS`\n",
        "  WHERE admission_type != 'NEWBORN')\n",
        ",\n",
        "icu_mort AS\n",
        "(\n",
        "SELECT p.subject_id, i.hadm_id, i.icustay_id, i.intime, i.outtime, i.LOS, p.dod, dod_hosp, p.expire_flag,i.dbsource,\n",
        "CASE \n",
        "  WHEN DATETIME(dod) BETWEEN intime AND outtime\n",
        "    THEN 1\n",
        "  WHEN DATETIME_DIFF(DATETIME(dod), outtime, HOUR) <= 24\n",
        "    THEN 1\n",
        "    ELSE 0\n",
        "    END AS in_hospital_mortality\n",
        "FROM `mimiciii-database.MIMIC3_V1_4.PATIENTS` p\n",
        "JOIN `mimiciii-database.MIMIC3_V1_4.ICUSTAYS` i\n",
        "ON p.subject_id = i.subject_id\n",
        "    )\n",
        "SELECT a.subject_id, im.hadm_id, im.icustay_id, im.intime, im.outtime, im.LOS, im.dod, im.dod_hosp, im.expire_flag,im.in_hospital_mortality\n",
        "FROM adult_adm AS a\n",
        "JOIN icu_mort AS im\n",
        "ON a.subject_id = im.subject_id\n",
        "WHERE im.LOS > 1  AND im.dbsource = 'metavision'\n",
        "-- AND im.in_hospital_mortality = 1\n",
        "\"\"\"\n",
        "# ICU stay > 24hrs\n",
        "#19705 ICU stays in total; 1623 in-hospital mortality. 8.23% mortality rate"
      ],
      "execution_count": 0,
      "outputs": []
    },
    {
      "cell_type": "code",
      "metadata": {
        "id": "q5e3lIWm11pq",
        "colab_type": "code",
        "colab": {}
      },
      "source": [
        "df_icustay = client.query(query4_2, project=project_id).to_dataframe()\n",
        "#df_icustay"
      ],
      "execution_count": 0,
      "outputs": []
    },
    {
      "cell_type": "code",
      "metadata": {
        "id": "3MA5oBH-11ps",
        "colab_type": "code",
        "colab": {}
      },
      "source": [
        "#get icustay id\n",
        "icu_stay = df_icustay['icustay_id']\n",
        "icu_stay = icu_stay.values\n",
        "#icu_stay = np.array(icu_stay, dtype=np.int64)\n",
        "type(icu_stay),len(icu_stay)\n",
        "#print(icu_stay)"
      ],
      "execution_count": 0,
      "outputs": []
    },
    {
      "cell_type": "code",
      "metadata": {
        "id": "ev0Xibo1OtHp",
        "colab_type": "code",
        "outputId": "00e8d95f-8405-4481-9a3e-4ad66e962acd",
        "colab": {
          "base_uri": "https://localhost:8080/",
          "height": 714
        }
      },
      "source": [
        "# Calculate descriptive statistics of features\n",
        "from collections import defaultdict\n",
        "columns = ['HR','SBP','DBP','mean_BP','RR','BT','SpO2','Glu']\n",
        "variables_s = defaultdict(dict)\n",
        "for i,col in enumerate(columns):\n",
        "    df_time1 = df_datapoint[df_datapoint['VitalID']==i+1]\n",
        "    #df_time1 = df_time1.drop(columns=['VitalID'])\n",
        "    #print(col)\n",
        "    #print(df_time1['valuenum'].values)\n",
        "    #print(len(df_time1['valuenum'].values))\n",
        "    #print(df_time1['valuenum'].values.mean())\n",
        "    #print(df_time1['valuenum'].values.std())\n",
        "    variables_s[col] = {'mean':df_time1['valuenum'].values.mean(),'std':df_time1['valuenum'].values.std(), 'median':np.median(df_time1['valuenum'].values), 'max':df_time1['valuenum'].values.max(), 'min':df_time1['valuenum'].values.min()}\n",
        "variables_s"
      ],
      "execution_count": 0,
      "outputs": [
        {
          "output_type": "execute_result",
          "data": {
            "text/plain": [
              "defaultdict(dict,\n",
              "            {'BT': {'max': 42.0,\n",
              "              'mean': 36.7836548238141,\n",
              "              'median': 36.77777777777778,\n",
              "              'min': 15.0,\n",
              "              'std': 0.8439861440166238},\n",
              "             'DBP': {'max': 275.0,\n",
              "              'mean': 61.77615497963075,\n",
              "              'median': 60.0,\n",
              "              'min': 4.0,\n",
              "              'std': 14.943862856089247},\n",
              "             'Glu': {'max': 948.0,\n",
              "              'mean': 146.6260989981499,\n",
              "              'median': 130.0,\n",
              "              'min': 2.0,\n",
              "              'std': 66.93611047066197},\n",
              "             'HR': {'max': 280.0,\n",
              "              'mean': 85.59267545134941,\n",
              "              'median': 84.0,\n",
              "              'min': 1.0,\n",
              "              'std': 18.964264484217495},\n",
              "             'RR': {'max': 69.0,\n",
              "              'mean': 18.970714653234097,\n",
              "              'median': 18.0,\n",
              "              'min': 1.0,\n",
              "              'std': 5.567947698995075},\n",
              "             'SBP': {'max': 323.0,\n",
              "              'mean': 118.37195048793568,\n",
              "              'median': 116.0,\n",
              "              'min': 5.0,\n",
              "              'std': 22.72329395386209},\n",
              "             'SpO2': {'max': 100.0,\n",
              "              'mean': 97.02272912323461,\n",
              "              'median': 98.0,\n",
              "              'min': 1.0,\n",
              "              'std': 3.272342395949336},\n",
              "             'mean_BP': {'max': 299.0,\n",
              "              'mean': 77.30777453945795,\n",
              "              'median': 76.0,\n",
              "              'min': 0.83,\n",
              "              'std': 16.740202461146765}})"
            ]
          },
          "metadata": {
            "tags": []
          },
          "execution_count": 77
        }
      ]
    },
    {
      "cell_type": "code",
      "metadata": {
        "id": "WD2EYzLFn0g4",
        "colab_type": "code",
        "colab": {}
      },
      "source": [
        "# create data, label from samples, clean\n",
        "# after sanity check\n",
        "\n",
        "def create_data(dataset,icu_adm,parameters):\n",
        "  data = []\n",
        "  missing_data = []\n",
        "  label = []\n",
        "  columns = ['HR','SBP','DBP','mean_BP','RR','BT','SpO2','Glu']\n",
        "  #check_tabel = pd.DataFrame(columns = ['icustay_id','HR','SBP','DBP','mean_BP','RR','BT','SpO2','Glu','mortality'])\n",
        "  icu_stay = icu_adm['icustay_id']\n",
        "  icu_stay = icu_stay.values\n",
        "  for idx in tqdm_notebook(icu_stay):\n",
        "    df_time = dataset[dataset['icustay_id']==idx]\n",
        "    df_time = df_time.sort_values(by=['charttime'])\n",
        "    df_time['charttime'] = pd.to_datetime(df_time['charttime'])\n",
        "    df_time['relativetime'] = pd.to_datetime(df_time['charttime'])- df_time['intime'] + pd.to_datetime('2000/01/01')\n",
        "            # extract datapoint by given time interval\n",
        "    df_time_idx = df_time.set_index('relativetime')\n",
        "            # group by hour\n",
        "    q = df_time_idx.groupby([pd.Grouper(freq='60Min'),'VitalID'])\n",
        "    q = q.first()['valuenum'].unstack()\n",
        "    #missing_data.append(q.isnull().sum(axis=0).to_numpy())\n",
        "    #l = df_icustay[df_icustay['icustay_id']==idx]['in_hospital_mortality']\n",
        "    #data.append(q.values)\n",
        "  #missing_data_per = np.array(missing_data)\n",
        "  #print(type(missing_data_per))\n",
        "  #missing_data_per = missing_data_per/24\n",
        "  #average = missing_data_per.sum(axis=0)/len(sample)\n",
        "    #fill the period gap with nan\n",
        "    date = pd.to_datetime('2000-01-01 00:00:00')\n",
        "    timesteps = date + pd.to_timedelta(np.arange(24), 'H')\n",
        "    c = pd.DataFrame(columns = columns,index=timesteps)\n",
        "          #matrix = []\n",
        "    for step in timesteps:\n",
        "      for i, v in enumerate(columns):\n",
        "            #print(str(step))\n",
        "        i+=1\n",
        "        try:\n",
        "                #matrix.append(q.loc[str(step),:].to_numpy())\n",
        "          c.loc[str(step),v] = q.loc[str(step),i]\n",
        "\n",
        "        except:\n",
        "          #print(idx,str(step),v)\n",
        "          pass\n",
        "              #matrix.append(np.empty((8))*np.nan)\n",
        "          #print(np.array(matrix))\n",
        "          #print(np.isnan(np.array(matrix,dtype=np.float64)).sum(axis=0))\n",
        "          #print(c.to_numpy())\n",
        "          #print(c.isnull().sum(axis=0))\n",
        "    #normalization\n",
        "    #for var in columns:\n",
        "    #        if var == 'SpO2':\n",
        "    #          c[var] = (c[var]-variables_s[var]['mean'])/(variables_s[var]['max'] - variables_s[var]['min'])\n",
        "    #        else:\n",
        "    #          c[var] = (c[var]-variables_s[var]['mean'])/variables_s[var]['std']\n",
        "          #fill missing data forward -> mean\n",
        "    c = c.fillna(method='ffill').fillna(0)\n",
        "    c = c.loc[:,parameters]\n",
        "    #missing_data.append(c.isnull().sum(axis=0))\n",
        "    data.append(c.to_numpy())\n",
        "    #c['icustay_id'] = idx\n",
        "    flag = icu_adm[icu_adm['icustay_id']==idx]['in_hospital_mortality']\n",
        "    #print(flag)\n",
        "    label.append(flag.values[0])\n",
        "    #c['mortality'] = l.values[0]\n",
        "    #check_tabel = pd.concat([check_tabel,c])\n",
        "  #np.array(data)\n",
        "  #check_tabel.to_csv('sample_checktable.csv')\n",
        "  return np.array(data), np.array(label), icu_stay"
      ],
      "execution_count": 0,
      "outputs": []
    },
    {
      "cell_type": "code",
      "metadata": {
        "id": "h4O5_N_qpTDV",
        "colab_type": "code",
        "outputId": "dd3ed551-677e-450d-c768-a334df618040",
        "colab": {
          "base_uri": "https://localhost:8080/",
          "referenced_widgets": [
            "b8c82098b12547cca140e13e9006a287"
          ]
        }
      },
      "source": [
        "#Create data\n",
        "parameters=['HR','SBP','DBP','mean_BP','RR','BT','SpO2','Glu']\n",
        "#df_icustay_100 = df_icustay.head(100)\n",
        "#d, l, m = create_data(df_datapoint,df_icustay)\n",
        "d, l, m = create_data(df_datapoint,df_icustay,parameters)"
      ],
      "execution_count": 0,
      "outputs": [
        {
          "output_type": "display_data",
          "data": {
            "application/vnd.jupyter.widget-view+json": {
              "model_id": "b8c82098b12547cca140e13e9006a287",
              "version_minor": 0,
              "version_major": 2
            },
            "text/plain": [
              "HBox(children=(IntProgress(value=0, max=19705), HTML(value='')))"
            ]
          },
          "metadata": {
            "tags": []
          }
        }
      ]
    },
    {
      "cell_type": "code",
      "metadata": {
        "id": "6QalG7T1v0Cm",
        "colab_type": "code",
        "colab": {}
      },
      "source": [
        "#Save data\n",
        "my_data_dir = 'Colab Notebooks'\n",
        "np.save(\"gdrive/My Drive/\"+my_data_dir+\"/outputs/first24hrs_nn.npy\", d)\n",
        "#np.save(\"gdrive/My Drive/\"+my_data_dir+\"/outputs/label_mort.npy\", l)"
      ],
      "execution_count": 0,
      "outputs": []
    },
    {
      "cell_type": "code",
      "metadata": {
        "id": "K6SlqXipTe4a",
        "colab_type": "code",
        "colab": {}
      },
      "source": [
        "# concate original data tabel with oxygenation and ventilation\n",
        "df_datapoint_oxyg = pd.concat([df_datapoint,df_02transform])\n",
        "#df_datapoint_oxyg"
      ],
      "execution_count": 0,
      "outputs": []
    },
    {
      "cell_type": "code",
      "metadata": {
        "id": "gvaKqtyTLg8e",
        "colab_type": "code",
        "colab": {}
      },
      "source": [
        "# create data, label from samples, clean\n",
        "# after sanity check\n",
        "\n",
        "def create_data_o2(dataset,icu_adm,parameters):\n",
        "\n",
        "  data = []\n",
        "  missing_data = []\n",
        "  label = []\n",
        "  columns = ['HR','SBP','DBP','mean_BP','RR','BT','SpO2','Glu','MV','O2']\n",
        "  #check_tabel = pd.DataFrame(columns = ['icustay_id','HR','SBP','DBP','mean_BP','RR','BT','SpO2','Glu','mortality'])\n",
        "  icu_stay = icu_adm['icustay_id']\n",
        "  icu_stay = icu_stay.values\n",
        "  for idx in tqdm_notebook(icu_stay):\n",
        "    df_time = dataset[dataset['icustay_id']==idx]\n",
        "    df_time = df_time.sort_values(by=['charttime'])\n",
        "    df_time['charttime'] = pd.to_datetime(df_time['charttime'])\n",
        "    df_time['relativetime'] = pd.to_datetime(df_time['charttime'])- df_time['intime'] + pd.to_datetime('2000/01/01')\n",
        "            # extract datapoint by given time interval\n",
        "    df_time_idx = df_time.set_index('relativetime')\n",
        "            # group by hour\n",
        "    q = df_time_idx.groupby([pd.Grouper(freq='60Min'),'VitalID'])\n",
        "    q = q.first()['valuenum'].unstack()\n",
        "    #missing_data.append(q.isnull().sum(axis=0).to_numpy())\n",
        "    #l = df_icustay[df_icustay['icustay_id']==idx]['in_hospital_mortality']\n",
        "    #data.append(q.values)\n",
        "  #missing_data_per = np.array(missing_data)\n",
        "  #print(type(missing_data_per))\n",
        "  #missing_data_per = missing_data_per/24\n",
        "  #average = missing_data_per.sum(axis=0)/len(sample)\n",
        "    #fill the period gap with nan\n",
        "    date = pd.to_datetime('2000-01-01 00:00:00')\n",
        "    timesteps = date + pd.to_timedelta(np.arange(24), 'H')\n",
        "    c = pd.DataFrame(columns = columns,index=timesteps)\n",
        "          #matrix = []\n",
        "    for step in timesteps:\n",
        "      for i, v in enumerate(columns):\n",
        "            #print(str(step))\n",
        "        i+=1\n",
        "        try:\n",
        "                #matrix.append(q.loc[str(step),:].to_numpy())\n",
        "          c.loc[str(step),v] = q.loc[str(step),i]\n",
        "\n",
        "        except:\n",
        "          #print(idx,str(step),v)\n",
        "          pass\n",
        "              #matrix.append(np.empty((8))*np.nan)\n",
        "          #print(np.array(matrix))\n",
        "          #print(np.isnan(np.array(matrix,dtype=np.float64)).sum(axis=0))\n",
        "          #print(c.to_numpy())\n",
        "          #print(c.isnull().sum(axis=0))\n",
        "    #normalization\n",
        "    for var in columns:\n",
        "            if var == 'SpO2':\n",
        "              c[var] = (c[var]-variables_s[var]['mean'])/(variables_s[var]['max'] - variables_s[var]['min'])\n",
        "            elif var == 'MV': pass\n",
        "            elif var == 'O2': pass\n",
        "            else:\n",
        "              #print(var)\n",
        "              c[var] = (c[var]-variables_s[var]['mean'])/variables_s[var]['std']\n",
        "          #fill missing data forward -> mean\n",
        "    c = c.fillna(method='ffill').fillna(0)\n",
        "    c = c.loc[:,parameters]\n",
        "    #missing_data.append(c.isnull().sum(axis=0))\n",
        "    data.append(c.to_numpy())\n",
        "    #c['icustay_id'] = idx\n",
        "    flag = icu_adm[icu_adm['icustay_id']==idx]['in_hospital_mortality']\n",
        "    #print(flag)\n",
        "    label.append(flag.values[0])\n",
        "    #c['mortality'] = l.values[0]\n",
        "    #check_tabel = pd.concat([check_tabel,c])\n",
        "  #np.array(data)\n",
        "  #check_tabel.to_csv('sample_checktable.csv')\n",
        "  return np.array(data), np.array(label), icu_stay"
      ],
      "execution_count": 0,
      "outputs": []
    },
    {
      "cell_type": "code",
      "metadata": {
        "id": "I5mRE4H4MKMm",
        "colab_type": "code",
        "outputId": "e23cdc2c-94f5-47cd-8a93-61be0eca615b",
        "colab": {
          "base_uri": "https://localhost:8080/",
          "height": 66,
          "referenced_widgets": [
            "f9e021c774a14a9d8f131e2e8bacc6be",
            "f2b7a1eebca9493ba58cba311ccee66a",
            "af3f381251c3449bb4cca72b407b165c",
            "5ea63204e5d74b70a5a35371980e27b1",
            "4be9d2e0b9544a54a145660c604ddbd6",
            "f5f264e81d7542dfba2b4d00d78c7803",
            "f3f752c485e347eaada35c3d4a119768",
            "5198a476a27e4d5a934c47e5b24cac16"
          ]
        }
      },
      "source": [
        "#create dataset\n",
        "parameters=['HR','SBP','DBP','mean_BP','RR','BT','SpO2','Glu','MV','O2']\n",
        "#df_icustay_100 = df_icustay.head(100)\n",
        "#d, l, m = create_data(df_datapoint,df_icustay)\n",
        "d, l, m = create_data_o2(df_datapoint_oxyg,df_icustay,parameters)"
      ],
      "execution_count": 0,
      "outputs": [
        {
          "output_type": "display_data",
          "data": {
            "application/vnd.jupyter.widget-view+json": {
              "model_id": "f9e021c774a14a9d8f131e2e8bacc6be",
              "version_minor": 0,
              "version_major": 2
            },
            "text/plain": [
              "HBox(children=(IntProgress(value=0, max=19705), HTML(value='')))"
            ]
          },
          "metadata": {
            "tags": []
          }
        },
        {
          "output_type": "stream",
          "text": [
            "\n"
          ],
          "name": "stdout"
        }
      ]
    },
    {
      "cell_type": "code",
      "metadata": {
        "id": "ubAN7fOWMPTd",
        "colab_type": "code",
        "colab": {}
      },
      "source": [
        "# save dataset\n",
        "my_data_dir = 'Colab Notebooks'\n",
        "np.save(\"gdrive/My Drive/\"+my_data_dir+\"/outputs/first24hrs_o2.npy\", d)\n",
        "np.save(\"gdrive/My Drive/\"+my_data_dir+\"/outputs/label_mort_o2.npy\", l)\n",
        "np.save(\"gdrive/My Drive/\"+my_data_dir+\"/outputs/icustay_id_o2.npy\", m)"
      ],
      "execution_count": 0,
      "outputs": []
    },
    {
      "cell_type": "code",
      "metadata": {
        "id": "vyGZfSASxuXE",
        "colab_type": "code",
        "colab": {}
      },
      "source": [
        "my_data_dir = 'Colab Notebooks'\n",
        "data = np.load(\"gdrive/My Drive/\"+my_data_dir+\"/outputs/first24hrs_o2.npy\")\n",
        "labels = np.load(\"gdrive/My Drive/\"+my_data_dir+\"/outputs/label_mort.npy\")\n",
        "id_list = np.load(\"gdrive/My Drive/\"+my_data_dir+\"/outputs/icustay_id.npy\")"
      ],
      "execution_count": 0,
      "outputs": []
    },
    {
      "cell_type": "code",
      "metadata": {
        "id": "Eh2owZpWFlpf",
        "colab_type": "code",
        "colab": {}
      },
      "source": [
        ""
      ],
      "execution_count": 0,
      "outputs": []
    }
  ]
}